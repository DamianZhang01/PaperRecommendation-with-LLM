{
  "cells": [
    {
      "cell_type": "code",
      "execution_count": 1,
      "id": "89352281-16b9-4a97-8f30-22226d7f4dd2",
      "metadata": {
        "id": "89352281-16b9-4a97-8f30-22226d7f4dd2"
      },
      "outputs": [],
      "source": [
        "import torch\n",
        "import random\n",
        "import json\n",
        "import os\n",
        "\n",
        "import numpy as np\n",
        "import pandas as pd\n",
        "import torch.nn.functional as F\n",
        "\n",
        "from random import randrange\n",
        "from tqdm.notebook import tqdm\n",
        "from torch.utils.data import Dataset, DataLoader\n",
        "from transformers import BertTokenizer, BertForSequenceClassification, Trainer, TrainingArguments, BertModel, BertForNextSentencePrediction, AutoTokenizer\n"
      ]
    },
    {
      "cell_type": "code",
      "execution_count": 2,
      "id": "7f1b967e-4603-4271-8f7c-790e4085b12e",
      "metadata": {
        "id": "7f1b967e-4603-4271-8f7c-790e4085b12e"
      },
      "outputs": [],
      "source": [
        "# Change to your corresponding key to download dataset from Kaggle\n",
        "# https://www.kaggle.com/datasets/Cornell-University/arxiv\n",
        "\n",
        "from google.colab import userdata\n",
        "import os\n",
        "\n",
        "os.environ[\"KAGGLE_KEY\"] = userdata.get('KAGGLE_KEY')\n",
        "os.environ[\"KAGGLE_USERNAME\"] = userdata.get('KAGGLE_USERNAME')"
      ]
    },
    {
      "cell_type": "code",
      "source": [
        "device = torch.device(\"cuda\" if torch.cuda.is_available() else \"cpu\")\n",
        "device"
      ],
      "metadata": {
        "colab": {
          "base_uri": "https://localhost:8080/"
        },
        "id": "gbQIqOBA_ejD",
        "outputId": "8d747454-1edd-4d29-fa02-b635985a6df8"
      },
      "id": "gbQIqOBA_ejD",
      "execution_count": 3,
      "outputs": [
        {
          "output_type": "execute_result",
          "data": {
            "text/plain": [
              "device(type='cuda')"
            ]
          },
          "metadata": {},
          "execution_count": 3
        }
      ]
    },
    {
      "cell_type": "code",
      "execution_count": 4,
      "id": "9d645ae8-9cec-40b1-ae2c-297226f294a0",
      "metadata": {
        "colab": {
          "base_uri": "https://localhost:8080/"
        },
        "id": "9d645ae8-9cec-40b1-ae2c-297226f294a0",
        "outputId": "dab45c02-72a7-4a18-ee2f-be765da8f5c0"
      },
      "outputs": [
        {
          "output_type": "stream",
          "name": "stdout",
          "text": [
            "Downloading arxiv.zip to /content\n",
            " 99% 1.25G/1.26G [00:13<00:00, 83.5MB/s]\n",
            "100% 1.26G/1.26G [00:13<00:00, 101MB/s] \n"
          ]
        }
      ],
      "source": [
        "!kaggle datasets download -d Cornell-University/arxiv"
      ]
    },
    {
      "cell_type": "code",
      "execution_count": 5,
      "id": "e854e317-1889-4f27-836b-4905bca05d52",
      "metadata": {
        "colab": {
          "base_uri": "https://localhost:8080/"
        },
        "id": "e854e317-1889-4f27-836b-4905bca05d52",
        "outputId": "5d9ba82e-adab-4358-8e1e-2f5b32403519"
      },
      "outputs": [
        {
          "output_type": "stream",
          "name": "stdout",
          "text": [
            "Archive:  arxiv.zip\n",
            "  inflating: arxiv-metadata-oai-snapshot.json  \n"
          ]
        }
      ],
      "source": [
        "! unzip \"arxiv.zip\""
      ]
    },
    {
      "cell_type": "code",
      "execution_count": 2,
      "id": "e096305d-c90a-447e-a728-7c7f2bcbfd8d",
      "metadata": {
        "id": "e096305d-c90a-447e-a728-7c7f2bcbfd8d"
      },
      "outputs": [],
      "source": [
        "PRE_TRAINED_MODEL_NAME = 'bert-base-cased'\n",
        "MAX_SEQUENCE_LENGTH = 256\n",
        "FILE_PATH ='./arxiv-metadata-oai-snapshot.json'\n",
        "device = torch.device(\"cuda\" if torch.cuda.is_available() else \"cpu\")"
      ]
    },
    {
      "cell_type": "code",
      "execution_count": 3,
      "id": "25208d6e-4774-4711-bb9e-aec95dfd2860",
      "metadata": {
        "id": "25208d6e-4774-4711-bb9e-aec95dfd2860"
      },
      "outputs": [],
      "source": [
        "def get_data():\n",
        "    with open(FILE_PATH) as f:\n",
        "        for line in f:\n",
        "            yield line"
      ]
    },
    {
      "cell_type": "code",
      "execution_count": 13,
      "id": "2d73cb1c-3ffe-4dd2-bf42-2961d06e1e73",
      "metadata": {
        "id": "2d73cb1c-3ffe-4dd2-bf42-2961d06e1e73"
      },
      "outputs": [],
      "source": [
        "year_limit = 2023\n",
        "\n",
        "dataframe = {\n",
        "    'id': [],\n",
        "    'title': [],\n",
        "    'year': [],\n",
        "    'abstract': []\n",
        "\n",
        "}\n",
        "\n",
        "data = get_data()\n",
        "for i, paper in enumerate(data):\n",
        "    paper = json.loads(paper)\n",
        "    try:\n",
        "        date = int(paper['update_date'].split('-')[0])\n",
        "        if date > year_limit:\n",
        "            dataframe['title'].append(paper['title'])\n",
        "            dataframe['year'].append(date)\n",
        "            dataframe['abstract'].append(paper['abstract'])\n",
        "            dataframe['id'].append(paper['id'])\n",
        "    except: pass"
      ]
    },
    {
      "cell_type": "code",
      "execution_count": 14,
      "id": "0f21cfa9-bf0e-4b2c-a097-a267c993f7ee",
      "metadata": {
        "id": "0f21cfa9-bf0e-4b2c-a097-a267c993f7ee"
      },
      "outputs": [],
      "source": [
        "df = pd.DataFrame(dataframe)"
      ]
    },
    {
      "cell_type": "code",
      "source": [
        "subset_df = df.iloc[:500]"
      ],
      "metadata": {
        "id": "8pswrfduDCmM"
      },
      "id": "8pswrfduDCmM",
      "execution_count": 15,
      "outputs": []
    },
    {
      "cell_type": "code",
      "execution_count": 6,
      "id": "8ba8cbc6-1b12-464d-ae22-f216a2002f31",
      "metadata": {
        "id": "8ba8cbc6-1b12-464d-ae22-f216a2002f31",
        "colab": {
          "base_uri": "https://localhost:8080/"
        },
        "outputId": "76a18e77-eeaf-40c4-ef2b-72ff784941e1"
      },
      "outputs": [
        {
          "output_type": "stream",
          "name": "stderr",
          "text": [
            "/usr/local/lib/python3.10/dist-packages/huggingface_hub/utils/_token.py:88: UserWarning: \n",
            "The secret `HF_TOKEN` does not exist in your Colab secrets.\n",
            "To authenticate with the Hugging Face Hub, create a token in your settings tab (https://huggingface.co/settings/tokens), set it as secret in your Google Colab and restart your session.\n",
            "You will be able to reuse this secret in all of your notebooks.\n",
            "Please note that authentication is recommended but still optional to access public models or datasets.\n",
            "  warnings.warn(\n"
          ]
        }
      ],
      "source": [
        "model = BertForNextSentencePrediction.from_pretrained(PRE_TRAINED_MODEL_NAME)\n",
        "model = model.to(device)\n",
        "model.eval()\n",
        "\n",
        "tokenizer = AutoTokenizer.from_pretrained(PRE_TRAINED_MODEL_NAME)"
      ]
    },
    {
      "cell_type": "code",
      "execution_count": 10,
      "id": "f186e958-0da2-4dbb-9a90-4a62691aad46",
      "metadata": {
        "id": "f186e958-0da2-4dbb-9a90-4a62691aad46"
      },
      "outputs": [],
      "source": [
        "def get_similarity_scores(query_string, reference_list, BATCH_SIZE=16):\n",
        "  similarity_scores = []\n",
        "  paired_texts = [(query_string, reference_row) for reference_row in reference_list]\n",
        "\n",
        "  for i in tqdm(range(0, len(paired_texts), BATCH_SIZE)):\n",
        "      batch = paired_texts[i:i + BATCH_SIZE]\n",
        "      encoded_sequences = tokenizer(\n",
        "          [pair[0] for pair in batch],\n",
        "          [pair[1] for pair in batch],\n",
        "          padding='longest',\n",
        "          truncation='longest_first',\n",
        "          return_tensors='pt',\n",
        "          max_length=MAX_SEQUENCE_LENGTH\n",
        "      ).to(device)\n",
        "\n",
        "      outputs = model(\n",
        "          input_ids=encoded_sequences['input_ids'],\n",
        "          attention_mask=encoded_sequences['attention_mask'],\n",
        "          token_type_ids=encoded_sequences['token_type_ids']\n",
        "      )\n",
        "\n",
        "      probs = F.softmax(outputs.logits, dim=1)\n",
        "      similarity_scores.extend(probs[:, 0].detach().cpu().numpy())\n",
        "\n",
        "  return similarity_scores\n",
        "\n",
        "# Assuming similarity_scores is now a list of similarity scores,\n",
        "# one for each row in your original DataFrame:\n"
      ]
    },
    {
      "cell_type": "code",
      "source": [
        "query_string = 'credit card access'\n",
        "df['similarity_score'] = get_similarity_scores(query_string, df['abstract'].to_list())"
      ],
      "metadata": {
        "colab": {
          "base_uri": "https://localhost:8080/",
          "height": 49,
          "referenced_widgets": [
            "6f9c437a2bf04113a80174682c469a43",
            "d04da44e5cae4cefb8bf6561de697c01",
            "793d5987e7524e6aae5624907a519fea",
            "39c4cf5ffd7a43368faef6926ead85f6",
            "6c4bb72333194eddaa09fb8c9b05d85f",
            "4b5d9d6e1a6b45be9b7125cb0650d05a",
            "b3bf9658dcab4b3fb348688952776aa7",
            "b5252c3e7eab44d78c1c156f860070c0",
            "cac5e24968d94a34ba1a060d0b92631a",
            "817cba681ca64fe4a3c8fe3f5d67d347",
            "c1ba162cebad4fdbb62872887f0ef8c4"
          ]
        },
        "id": "RfvlEl8-BFEB",
        "outputId": "520a3542-a4a9-4a3d-a227-691fe56ab256"
      },
      "id": "RfvlEl8-BFEB",
      "execution_count": null,
      "outputs": [
        {
          "output_type": "display_data",
          "data": {
            "text/plain": [
              "  0%|          | 0/4332 [00:00<?, ?it/s]"
            ],
            "application/vnd.jupyter.widget-view+json": {
              "version_major": 2,
              "version_minor": 0,
              "model_id": "6f9c437a2bf04113a80174682c469a43"
            }
          },
          "metadata": {}
        }
      ]
    },
    {
      "cell_type": "code",
      "execution_count": 12,
      "id": "3214ec2c-42d1-456f-a198-5db36c8041ec",
      "metadata": {
        "id": "3214ec2c-42d1-456f-a198-5db36c8041ec",
        "outputId": "b419cb8e-6e8c-42ff-dce6-73ac36f1f217",
        "colab": {
          "base_uri": "https://localhost:8080/",
          "height": 419
        }
      },
      "outputs": [
        {
          "output_type": "execute_result",
          "data": {
            "text/plain": [
              "             id                                              title  year  \\\n",
              "31    1005.0555            Cosmic Microwave Background Mini-review  2024   \n",
              "193   1405.5801  Physics at the University of Lviv: the first t...  2024   \n",
              "160   1309.2605  Constructive mathematics with the knowledge pr...  2024   \n",
              "108   1301.2469  Strong convergence for the modified Mann's ite...  2024   \n",
              "44    1102.1087                                       Graph Theory  2024   \n",
              "..          ...                                                ...   ...   \n",
              "243  1503.07174  A calculation for polar Kerr effect in high te...  2024   \n",
              "268  1507.05606  Nernst and magneto-thermal conductivity in a l...  2024   \n",
              "355  1608.00403  Unitary boson-boson and boson-fermion mixtures...  2024   \n",
              "96    1210.7306  Cosmology constrains gravitational four-fermio...  2024   \n",
              "116   1303.1348  Gravitational four-fermion interaction and dyn...  2024   \n",
              "\n",
              "                                              abstract  similarity_score  \n",
              "31     A compact overview of the status of CMB anis...          0.450201  \n",
              "193    A detailed bibliography related to physics a...          0.244206  \n",
              "160    $K$ denotes both the predicate satisfied by ...          0.139824  \n",
              "108    In this paper, for an $\\lambda$-strict pseud...          0.060501  \n",
              "44     This is a replacement paper. There are 6 cha...          0.060356  \n",
              "..                                                 ...               ...  \n",
              "243    A mechanism is proposed for the tantalizing ...          0.000043  \n",
              "268    Weyl semimetals (WSM) are topologically prot...          0.000036  \n",
              "355    We give exact integral expressions of the th...          0.000030  \n",
              "96     If torsion exists, it generates gravitationa...          0.000027  \n",
              "116    If torsion exists, it generates gravitationa...          0.000022  \n",
              "\n",
              "[500 rows x 5 columns]"
            ],
            "text/html": [
              "\n",
              "  <div id=\"df-81af366a-976c-467b-8221-69c851c3590b\" class=\"colab-df-container\">\n",
              "    <div>\n",
              "<style scoped>\n",
              "    .dataframe tbody tr th:only-of-type {\n",
              "        vertical-align: middle;\n",
              "    }\n",
              "\n",
              "    .dataframe tbody tr th {\n",
              "        vertical-align: top;\n",
              "    }\n",
              "\n",
              "    .dataframe thead th {\n",
              "        text-align: right;\n",
              "    }\n",
              "</style>\n",
              "<table border=\"1\" class=\"dataframe\">\n",
              "  <thead>\n",
              "    <tr style=\"text-align: right;\">\n",
              "      <th></th>\n",
              "      <th>id</th>\n",
              "      <th>title</th>\n",
              "      <th>year</th>\n",
              "      <th>abstract</th>\n",
              "      <th>similarity_score</th>\n",
              "    </tr>\n",
              "  </thead>\n",
              "  <tbody>\n",
              "    <tr>\n",
              "      <th>31</th>\n",
              "      <td>1005.0555</td>\n",
              "      <td>Cosmic Microwave Background Mini-review</td>\n",
              "      <td>2024</td>\n",
              "      <td>A compact overview of the status of CMB anis...</td>\n",
              "      <td>0.450201</td>\n",
              "    </tr>\n",
              "    <tr>\n",
              "      <th>193</th>\n",
              "      <td>1405.5801</td>\n",
              "      <td>Physics at the University of Lviv: the first t...</td>\n",
              "      <td>2024</td>\n",
              "      <td>A detailed bibliography related to physics a...</td>\n",
              "      <td>0.244206</td>\n",
              "    </tr>\n",
              "    <tr>\n",
              "      <th>160</th>\n",
              "      <td>1309.2605</td>\n",
              "      <td>Constructive mathematics with the knowledge pr...</td>\n",
              "      <td>2024</td>\n",
              "      <td>$K$ denotes both the predicate satisfied by ...</td>\n",
              "      <td>0.139824</td>\n",
              "    </tr>\n",
              "    <tr>\n",
              "      <th>108</th>\n",
              "      <td>1301.2469</td>\n",
              "      <td>Strong convergence for the modified Mann's ite...</td>\n",
              "      <td>2024</td>\n",
              "      <td>In this paper, for an $\\lambda$-strict pseud...</td>\n",
              "      <td>0.060501</td>\n",
              "    </tr>\n",
              "    <tr>\n",
              "      <th>44</th>\n",
              "      <td>1102.1087</td>\n",
              "      <td>Graph Theory</td>\n",
              "      <td>2024</td>\n",
              "      <td>This is a replacement paper. There are 6 cha...</td>\n",
              "      <td>0.060356</td>\n",
              "    </tr>\n",
              "    <tr>\n",
              "      <th>...</th>\n",
              "      <td>...</td>\n",
              "      <td>...</td>\n",
              "      <td>...</td>\n",
              "      <td>...</td>\n",
              "      <td>...</td>\n",
              "    </tr>\n",
              "    <tr>\n",
              "      <th>243</th>\n",
              "      <td>1503.07174</td>\n",
              "      <td>A calculation for polar Kerr effect in high te...</td>\n",
              "      <td>2024</td>\n",
              "      <td>A mechanism is proposed for the tantalizing ...</td>\n",
              "      <td>0.000043</td>\n",
              "    </tr>\n",
              "    <tr>\n",
              "      <th>268</th>\n",
              "      <td>1507.05606</td>\n",
              "      <td>Nernst and magneto-thermal conductivity in a l...</td>\n",
              "      <td>2024</td>\n",
              "      <td>Weyl semimetals (WSM) are topologically prot...</td>\n",
              "      <td>0.000036</td>\n",
              "    </tr>\n",
              "    <tr>\n",
              "      <th>355</th>\n",
              "      <td>1608.00403</td>\n",
              "      <td>Unitary boson-boson and boson-fermion mixtures...</td>\n",
              "      <td>2024</td>\n",
              "      <td>We give exact integral expressions of the th...</td>\n",
              "      <td>0.000030</td>\n",
              "    </tr>\n",
              "    <tr>\n",
              "      <th>96</th>\n",
              "      <td>1210.7306</td>\n",
              "      <td>Cosmology constrains gravitational four-fermio...</td>\n",
              "      <td>2024</td>\n",
              "      <td>If torsion exists, it generates gravitationa...</td>\n",
              "      <td>0.000027</td>\n",
              "    </tr>\n",
              "    <tr>\n",
              "      <th>116</th>\n",
              "      <td>1303.1348</td>\n",
              "      <td>Gravitational four-fermion interaction and dyn...</td>\n",
              "      <td>2024</td>\n",
              "      <td>If torsion exists, it generates gravitationa...</td>\n",
              "      <td>0.000022</td>\n",
              "    </tr>\n",
              "  </tbody>\n",
              "</table>\n",
              "<p>500 rows × 5 columns</p>\n",
              "</div>\n",
              "    <div class=\"colab-df-buttons\">\n",
              "\n",
              "  <div class=\"colab-df-container\">\n",
              "    <button class=\"colab-df-convert\" onclick=\"convertToInteractive('df-81af366a-976c-467b-8221-69c851c3590b')\"\n",
              "            title=\"Convert this dataframe to an interactive table.\"\n",
              "            style=\"display:none;\">\n",
              "\n",
              "  <svg xmlns=\"http://www.w3.org/2000/svg\" height=\"24px\" viewBox=\"0 -960 960 960\">\n",
              "    <path d=\"M120-120v-720h720v720H120Zm60-500h600v-160H180v160Zm220 220h160v-160H400v160Zm0 220h160v-160H400v160ZM180-400h160v-160H180v160Zm440 0h160v-160H620v160ZM180-180h160v-160H180v160Zm440 0h160v-160H620v160Z\"/>\n",
              "  </svg>\n",
              "    </button>\n",
              "\n",
              "  <style>\n",
              "    .colab-df-container {\n",
              "      display:flex;\n",
              "      gap: 12px;\n",
              "    }\n",
              "\n",
              "    .colab-df-convert {\n",
              "      background-color: #E8F0FE;\n",
              "      border: none;\n",
              "      border-radius: 50%;\n",
              "      cursor: pointer;\n",
              "      display: none;\n",
              "      fill: #1967D2;\n",
              "      height: 32px;\n",
              "      padding: 0 0 0 0;\n",
              "      width: 32px;\n",
              "    }\n",
              "\n",
              "    .colab-df-convert:hover {\n",
              "      background-color: #E2EBFA;\n",
              "      box-shadow: 0px 1px 2px rgba(60, 64, 67, 0.3), 0px 1px 3px 1px rgba(60, 64, 67, 0.15);\n",
              "      fill: #174EA6;\n",
              "    }\n",
              "\n",
              "    .colab-df-buttons div {\n",
              "      margin-bottom: 4px;\n",
              "    }\n",
              "\n",
              "    [theme=dark] .colab-df-convert {\n",
              "      background-color: #3B4455;\n",
              "      fill: #D2E3FC;\n",
              "    }\n",
              "\n",
              "    [theme=dark] .colab-df-convert:hover {\n",
              "      background-color: #434B5C;\n",
              "      box-shadow: 0px 1px 3px 1px rgba(0, 0, 0, 0.15);\n",
              "      filter: drop-shadow(0px 1px 2px rgba(0, 0, 0, 0.3));\n",
              "      fill: #FFFFFF;\n",
              "    }\n",
              "  </style>\n",
              "\n",
              "    <script>\n",
              "      const buttonEl =\n",
              "        document.querySelector('#df-81af366a-976c-467b-8221-69c851c3590b button.colab-df-convert');\n",
              "      buttonEl.style.display =\n",
              "        google.colab.kernel.accessAllowed ? 'block' : 'none';\n",
              "\n",
              "      async function convertToInteractive(key) {\n",
              "        const element = document.querySelector('#df-81af366a-976c-467b-8221-69c851c3590b');\n",
              "        const dataTable =\n",
              "          await google.colab.kernel.invokeFunction('convertToInteractive',\n",
              "                                                    [key], {});\n",
              "        if (!dataTable) return;\n",
              "\n",
              "        const docLinkHtml = 'Like what you see? Visit the ' +\n",
              "          '<a target=\"_blank\" href=https://colab.research.google.com/notebooks/data_table.ipynb>data table notebook</a>'\n",
              "          + ' to learn more about interactive tables.';\n",
              "        element.innerHTML = '';\n",
              "        dataTable['output_type'] = 'display_data';\n",
              "        await google.colab.output.renderOutput(dataTable, element);\n",
              "        const docLink = document.createElement('div');\n",
              "        docLink.innerHTML = docLinkHtml;\n",
              "        element.appendChild(docLink);\n",
              "      }\n",
              "    </script>\n",
              "  </div>\n",
              "\n",
              "\n",
              "<div id=\"df-31e8daf5-cc1f-4d2e-bda5-2894c112cea6\">\n",
              "  <button class=\"colab-df-quickchart\" onclick=\"quickchart('df-31e8daf5-cc1f-4d2e-bda5-2894c112cea6')\"\n",
              "            title=\"Suggest charts\"\n",
              "            style=\"display:none;\">\n",
              "\n",
              "<svg xmlns=\"http://www.w3.org/2000/svg\" height=\"24px\"viewBox=\"0 0 24 24\"\n",
              "     width=\"24px\">\n",
              "    <g>\n",
              "        <path d=\"M19 3H5c-1.1 0-2 .9-2 2v14c0 1.1.9 2 2 2h14c1.1 0 2-.9 2-2V5c0-1.1-.9-2-2-2zM9 17H7v-7h2v7zm4 0h-2V7h2v10zm4 0h-2v-4h2v4z\"/>\n",
              "    </g>\n",
              "</svg>\n",
              "  </button>\n",
              "\n",
              "<style>\n",
              "  .colab-df-quickchart {\n",
              "      --bg-color: #E8F0FE;\n",
              "      --fill-color: #1967D2;\n",
              "      --hover-bg-color: #E2EBFA;\n",
              "      --hover-fill-color: #174EA6;\n",
              "      --disabled-fill-color: #AAA;\n",
              "      --disabled-bg-color: #DDD;\n",
              "  }\n",
              "\n",
              "  [theme=dark] .colab-df-quickchart {\n",
              "      --bg-color: #3B4455;\n",
              "      --fill-color: #D2E3FC;\n",
              "      --hover-bg-color: #434B5C;\n",
              "      --hover-fill-color: #FFFFFF;\n",
              "      --disabled-bg-color: #3B4455;\n",
              "      --disabled-fill-color: #666;\n",
              "  }\n",
              "\n",
              "  .colab-df-quickchart {\n",
              "    background-color: var(--bg-color);\n",
              "    border: none;\n",
              "    border-radius: 50%;\n",
              "    cursor: pointer;\n",
              "    display: none;\n",
              "    fill: var(--fill-color);\n",
              "    height: 32px;\n",
              "    padding: 0;\n",
              "    width: 32px;\n",
              "  }\n",
              "\n",
              "  .colab-df-quickchart:hover {\n",
              "    background-color: var(--hover-bg-color);\n",
              "    box-shadow: 0 1px 2px rgba(60, 64, 67, 0.3), 0 1px 3px 1px rgba(60, 64, 67, 0.15);\n",
              "    fill: var(--button-hover-fill-color);\n",
              "  }\n",
              "\n",
              "  .colab-df-quickchart-complete:disabled,\n",
              "  .colab-df-quickchart-complete:disabled:hover {\n",
              "    background-color: var(--disabled-bg-color);\n",
              "    fill: var(--disabled-fill-color);\n",
              "    box-shadow: none;\n",
              "  }\n",
              "\n",
              "  .colab-df-spinner {\n",
              "    border: 2px solid var(--fill-color);\n",
              "    border-color: transparent;\n",
              "    border-bottom-color: var(--fill-color);\n",
              "    animation:\n",
              "      spin 1s steps(1) infinite;\n",
              "  }\n",
              "\n",
              "  @keyframes spin {\n",
              "    0% {\n",
              "      border-color: transparent;\n",
              "      border-bottom-color: var(--fill-color);\n",
              "      border-left-color: var(--fill-color);\n",
              "    }\n",
              "    20% {\n",
              "      border-color: transparent;\n",
              "      border-left-color: var(--fill-color);\n",
              "      border-top-color: var(--fill-color);\n",
              "    }\n",
              "    30% {\n",
              "      border-color: transparent;\n",
              "      border-left-color: var(--fill-color);\n",
              "      border-top-color: var(--fill-color);\n",
              "      border-right-color: var(--fill-color);\n",
              "    }\n",
              "    40% {\n",
              "      border-color: transparent;\n",
              "      border-right-color: var(--fill-color);\n",
              "      border-top-color: var(--fill-color);\n",
              "    }\n",
              "    60% {\n",
              "      border-color: transparent;\n",
              "      border-right-color: var(--fill-color);\n",
              "    }\n",
              "    80% {\n",
              "      border-color: transparent;\n",
              "      border-right-color: var(--fill-color);\n",
              "      border-bottom-color: var(--fill-color);\n",
              "    }\n",
              "    90% {\n",
              "      border-color: transparent;\n",
              "      border-bottom-color: var(--fill-color);\n",
              "    }\n",
              "  }\n",
              "</style>\n",
              "\n",
              "  <script>\n",
              "    async function quickchart(key) {\n",
              "      const quickchartButtonEl =\n",
              "        document.querySelector('#' + key + ' button');\n",
              "      quickchartButtonEl.disabled = true;  // To prevent multiple clicks.\n",
              "      quickchartButtonEl.classList.add('colab-df-spinner');\n",
              "      try {\n",
              "        const charts = await google.colab.kernel.invokeFunction(\n",
              "            'suggestCharts', [key], {});\n",
              "      } catch (error) {\n",
              "        console.error('Error during call to suggestCharts:', error);\n",
              "      }\n",
              "      quickchartButtonEl.classList.remove('colab-df-spinner');\n",
              "      quickchartButtonEl.classList.add('colab-df-quickchart-complete');\n",
              "    }\n",
              "    (() => {\n",
              "      let quickchartButtonEl =\n",
              "        document.querySelector('#df-31e8daf5-cc1f-4d2e-bda5-2894c112cea6 button');\n",
              "      quickchartButtonEl.style.display =\n",
              "        google.colab.kernel.accessAllowed ? 'block' : 'none';\n",
              "    })();\n",
              "  </script>\n",
              "</div>\n",
              "\n",
              "    </div>\n",
              "  </div>\n"
            ],
            "application/vnd.google.colaboratory.intrinsic+json": {
              "type": "dataframe",
              "summary": "{\n  \"name\": \"df\",\n  \"rows\": 500,\n  \"fields\": [\n    {\n      \"column\": \"id\",\n      \"properties\": {\n        \"dtype\": \"string\",\n        \"num_unique_values\": 500,\n        \"samples\": [\n          \"1405.1917\",\n          \"1303.2033\",\n          \"1003.0159\"\n        ],\n        \"semantic_type\": \"\",\n        \"description\": \"\"\n      }\n    },\n    {\n      \"column\": \"title\",\n      \"properties\": {\n        \"dtype\": \"string\",\n        \"num_unique_values\": 500,\n        \"samples\": [\n          \"EP modular operators and their products\",\n          \"Extended Fourier analysis of signals\",\n          \"Electronic temperatures, densities and plasma X-ray emission of a 14.5\\n  GHz Electron-Cyclotron Resonance Ion Source\"\n        ],\n        \"semantic_type\": \"\",\n        \"description\": \"\"\n      }\n    },\n    {\n      \"column\": \"year\",\n      \"properties\": {\n        \"dtype\": \"number\",\n        \"std\": 0,\n        \"min\": 2024,\n        \"max\": 2024,\n        \"num_unique_values\": 1,\n        \"samples\": [\n          2024\n        ],\n        \"semantic_type\": \"\",\n        \"description\": \"\"\n      }\n    },\n    {\n      \"column\": \"abstract\",\n      \"properties\": {\n        \"dtype\": \"string\",\n        \"num_unique_values\": 500,\n        \"samples\": [\n          \"  We study first EP modular operators on Hilbert C*-modules and then we provide\\nnecessary and sufficient conditions for the product of two EP modular operators\\nto be EP. These enable us to extend some results of Koliha [{\\\\it Studia Math.}\\n{\\\\bf 139} (2000), 81--90.] for an arbitrary C*-algebra and the C*-algebras of\\ncompact operators.\\n\"\n        ],\n        \"semantic_type\": \"\",\n        \"description\": \"\"\n      }\n    },\n    {\n      \"column\": \"similarity_score\",\n      \"properties\": {\n        \"dtype\": \"float32\",\n        \"num_unique_values\": 500,\n        \"samples\": [\n          0.00028745748568326235\n        ],\n        \"semantic_type\": \"\",\n        \"description\": \"\"\n      }\n    }\n  ]\n}"
            }
          },
          "metadata": {},
          "execution_count": 12
        }
      ],
      "source": [
        "df.sort_values(by='similarity_score', ascending=False)"
      ]
    },
    {
      "cell_type": "code",
      "execution_count": null,
      "id": "77897c5a-1b7c-4f16-8d65-12f793bee370",
      "metadata": {
        "id": "77897c5a-1b7c-4f16-8d65-12f793bee370"
      },
      "outputs": [],
      "source": []
    },
    {
      "cell_type": "code",
      "execution_count": null,
      "id": "0f4c4264-4871-4884-8d95-82bbdb32a6d8",
      "metadata": {
        "id": "0f4c4264-4871-4884-8d95-82bbdb32a6d8"
      },
      "outputs": [],
      "source": []
    },
    {
      "cell_type": "code",
      "execution_count": null,
      "id": "0d86c498-6824-4526-b7b9-8d46cb80b4b5",
      "metadata": {
        "id": "0d86c498-6824-4526-b7b9-8d46cb80b4b5"
      },
      "outputs": [],
      "source": []
    },
    {
      "cell_type": "code",
      "execution_count": null,
      "id": "cec3d9c6-dba3-44b9-a6ce-e2910a7c9f1d",
      "metadata": {
        "id": "cec3d9c6-dba3-44b9-a6ce-e2910a7c9f1d"
      },
      "outputs": [],
      "source": []
    },
    {
      "cell_type": "code",
      "execution_count": null,
      "id": "f40a920f-2599-4438-aa3a-2e9f0f5671cc",
      "metadata": {
        "id": "f40a920f-2599-4438-aa3a-2e9f0f5671cc"
      },
      "outputs": [],
      "source": []
    },
    {
      "cell_type": "code",
      "execution_count": null,
      "id": "5cfef5ac-5ff5-492e-8873-d84b1e38325c",
      "metadata": {
        "id": "5cfef5ac-5ff5-492e-8873-d84b1e38325c"
      },
      "outputs": [],
      "source": []
    },
    {
      "cell_type": "code",
      "execution_count": null,
      "id": "4a47a565-960a-40eb-8568-78ba8e4e5327",
      "metadata": {
        "id": "4a47a565-960a-40eb-8568-78ba8e4e5327"
      },
      "outputs": [],
      "source": []
    },
    {
      "cell_type": "code",
      "execution_count": null,
      "id": "28bbd53f-b04f-4674-be64-8ef104a04044",
      "metadata": {
        "id": "28bbd53f-b04f-4674-be64-8ef104a04044"
      },
      "outputs": [],
      "source": []
    },
    {
      "cell_type": "code",
      "execution_count": null,
      "id": "da4b5a68-9d88-452b-94c8-28b07c99e1f9",
      "metadata": {
        "id": "da4b5a68-9d88-452b-94c8-28b07c99e1f9"
      },
      "outputs": [],
      "source": []
    },
    {
      "cell_type": "code",
      "execution_count": null,
      "id": "2acfa06b-268e-4373-8b50-edf84c8b508f",
      "metadata": {
        "id": "2acfa06b-268e-4373-8b50-edf84c8b508f"
      },
      "outputs": [],
      "source": []
    },
    {
      "cell_type": "code",
      "execution_count": null,
      "id": "3ddd3b7d-1d6b-4daa-b268-d6e958cd8a52",
      "metadata": {
        "id": "3ddd3b7d-1d6b-4daa-b268-d6e958cd8a52"
      },
      "outputs": [],
      "source": []
    },
    {
      "cell_type": "code",
      "execution_count": null,
      "id": "4014e1e5-00b5-4bea-b5e0-1b5ab370f753",
      "metadata": {
        "id": "4014e1e5-00b5-4bea-b5e0-1b5ab370f753"
      },
      "outputs": [],
      "source": []
    },
    {
      "cell_type": "code",
      "execution_count": null,
      "id": "7244c27e-e41c-4315-8d17-7e4e0dd9fd07",
      "metadata": {
        "id": "7244c27e-e41c-4315-8d17-7e4e0dd9fd07"
      },
      "outputs": [],
      "source": []
    },
    {
      "cell_type": "code",
      "execution_count": null,
      "id": "18f6e08e-6e73-40bd-a8cf-b915067b77fb",
      "metadata": {
        "colab": {
          "referenced_widgets": [
            "1a64a13f2bba44bc9df87b9545fe4a0d"
          ]
        },
        "id": "18f6e08e-6e73-40bd-a8cf-b915067b77fb",
        "outputId": "c6a69c64-1d24-41d8-f362-ce35e3a087f5"
      },
      "outputs": [
        {
          "data": {
            "application/vnd.jupyter.widget-view+json": {
              "model_id": "1a64a13f2bba44bc9df87b9545fe4a0d",
              "version_major": 2,
              "version_minor": 0
            },
            "text/plain": [
              "model.safetensors:   0%|          | 0.00/440M [00:00<?, ?B/s]"
            ]
          },
          "metadata": {},
          "output_type": "display_data"
        }
      ],
      "source": []
    },
    {
      "cell_type": "code",
      "execution_count": null,
      "id": "92744402-5f1e-4ea2-b796-297a294edc87",
      "metadata": {
        "id": "92744402-5f1e-4ea2-b796-297a294edc87"
      },
      "outputs": [],
      "source": [
        "similar_books = get_top_k_most_similar(source_book, book_ids, books, 10)"
      ]
    }
  ],
  "metadata": {
    "kernelspec": {
      "display_name": "Python 3",
      "name": "python3"
    },
    "language_info": {
      "codemirror_mode": {
        "name": "ipython",
        "version": 3
      },
      "file_extension": ".py",
      "mimetype": "text/x-python",
      "name": "python",
      "nbconvert_exporter": "python",
      "pygments_lexer": "ipython3",
      "version": "3.12.0"
    },
    "colab": {
      "provenance": [],
      "gpuType": "T4"
    },
    "accelerator": "GPU",
    "widgets": {
      "application/vnd.jupyter.widget-state+json": {
        "6f9c437a2bf04113a80174682c469a43": {
          "model_module": "@jupyter-widgets/controls",
          "model_name": "HBoxModel",
          "model_module_version": "1.5.0",
          "state": {
            "_dom_classes": [],
            "_model_module": "@jupyter-widgets/controls",
            "_model_module_version": "1.5.0",
            "_model_name": "HBoxModel",
            "_view_count": null,
            "_view_module": "@jupyter-widgets/controls",
            "_view_module_version": "1.5.0",
            "_view_name": "HBoxView",
            "box_style": "",
            "children": [
              "IPY_MODEL_d04da44e5cae4cefb8bf6561de697c01",
              "IPY_MODEL_793d5987e7524e6aae5624907a519fea",
              "IPY_MODEL_39c4cf5ffd7a43368faef6926ead85f6"
            ],
            "layout": "IPY_MODEL_6c4bb72333194eddaa09fb8c9b05d85f"
          }
        },
        "d04da44e5cae4cefb8bf6561de697c01": {
          "model_module": "@jupyter-widgets/controls",
          "model_name": "HTMLModel",
          "model_module_version": "1.5.0",
          "state": {
            "_dom_classes": [],
            "_model_module": "@jupyter-widgets/controls",
            "_model_module_version": "1.5.0",
            "_model_name": "HTMLModel",
            "_view_count": null,
            "_view_module": "@jupyter-widgets/controls",
            "_view_module_version": "1.5.0",
            "_view_name": "HTMLView",
            "description": "",
            "description_tooltip": null,
            "layout": "IPY_MODEL_4b5d9d6e1a6b45be9b7125cb0650d05a",
            "placeholder": "​",
            "style": "IPY_MODEL_b3bf9658dcab4b3fb348688952776aa7",
            "value": " 50%"
          }
        },
        "793d5987e7524e6aae5624907a519fea": {
          "model_module": "@jupyter-widgets/controls",
          "model_name": "FloatProgressModel",
          "model_module_version": "1.5.0",
          "state": {
            "_dom_classes": [],
            "_model_module": "@jupyter-widgets/controls",
            "_model_module_version": "1.5.0",
            "_model_name": "FloatProgressModel",
            "_view_count": null,
            "_view_module": "@jupyter-widgets/controls",
            "_view_module_version": "1.5.0",
            "_view_name": "ProgressView",
            "bar_style": "",
            "description": "",
            "description_tooltip": null,
            "layout": "IPY_MODEL_b5252c3e7eab44d78c1c156f860070c0",
            "max": 4332,
            "min": 0,
            "orientation": "horizontal",
            "style": "IPY_MODEL_cac5e24968d94a34ba1a060d0b92631a",
            "value": 2182
          }
        },
        "39c4cf5ffd7a43368faef6926ead85f6": {
          "model_module": "@jupyter-widgets/controls",
          "model_name": "HTMLModel",
          "model_module_version": "1.5.0",
          "state": {
            "_dom_classes": [],
            "_model_module": "@jupyter-widgets/controls",
            "_model_module_version": "1.5.0",
            "_model_name": "HTMLModel",
            "_view_count": null,
            "_view_module": "@jupyter-widgets/controls",
            "_view_module_version": "1.5.0",
            "_view_name": "HTMLView",
            "description": "",
            "description_tooltip": null,
            "layout": "IPY_MODEL_817cba681ca64fe4a3c8fe3f5d67d347",
            "placeholder": "​",
            "style": "IPY_MODEL_c1ba162cebad4fdbb62872887f0ef8c4",
            "value": " 2182/4332 [09:18&lt;09:37,  3.72it/s]"
          }
        },
        "6c4bb72333194eddaa09fb8c9b05d85f": {
          "model_module": "@jupyter-widgets/base",
          "model_name": "LayoutModel",
          "model_module_version": "1.2.0",
          "state": {
            "_model_module": "@jupyter-widgets/base",
            "_model_module_version": "1.2.0",
            "_model_name": "LayoutModel",
            "_view_count": null,
            "_view_module": "@jupyter-widgets/base",
            "_view_module_version": "1.2.0",
            "_view_name": "LayoutView",
            "align_content": null,
            "align_items": null,
            "align_self": null,
            "border": null,
            "bottom": null,
            "display": null,
            "flex": null,
            "flex_flow": null,
            "grid_area": null,
            "grid_auto_columns": null,
            "grid_auto_flow": null,
            "grid_auto_rows": null,
            "grid_column": null,
            "grid_gap": null,
            "grid_row": null,
            "grid_template_areas": null,
            "grid_template_columns": null,
            "grid_template_rows": null,
            "height": null,
            "justify_content": null,
            "justify_items": null,
            "left": null,
            "margin": null,
            "max_height": null,
            "max_width": null,
            "min_height": null,
            "min_width": null,
            "object_fit": null,
            "object_position": null,
            "order": null,
            "overflow": null,
            "overflow_x": null,
            "overflow_y": null,
            "padding": null,
            "right": null,
            "top": null,
            "visibility": null,
            "width": null
          }
        },
        "4b5d9d6e1a6b45be9b7125cb0650d05a": {
          "model_module": "@jupyter-widgets/base",
          "model_name": "LayoutModel",
          "model_module_version": "1.2.0",
          "state": {
            "_model_module": "@jupyter-widgets/base",
            "_model_module_version": "1.2.0",
            "_model_name": "LayoutModel",
            "_view_count": null,
            "_view_module": "@jupyter-widgets/base",
            "_view_module_version": "1.2.0",
            "_view_name": "LayoutView",
            "align_content": null,
            "align_items": null,
            "align_self": null,
            "border": null,
            "bottom": null,
            "display": null,
            "flex": null,
            "flex_flow": null,
            "grid_area": null,
            "grid_auto_columns": null,
            "grid_auto_flow": null,
            "grid_auto_rows": null,
            "grid_column": null,
            "grid_gap": null,
            "grid_row": null,
            "grid_template_areas": null,
            "grid_template_columns": null,
            "grid_template_rows": null,
            "height": null,
            "justify_content": null,
            "justify_items": null,
            "left": null,
            "margin": null,
            "max_height": null,
            "max_width": null,
            "min_height": null,
            "min_width": null,
            "object_fit": null,
            "object_position": null,
            "order": null,
            "overflow": null,
            "overflow_x": null,
            "overflow_y": null,
            "padding": null,
            "right": null,
            "top": null,
            "visibility": null,
            "width": null
          }
        },
        "b3bf9658dcab4b3fb348688952776aa7": {
          "model_module": "@jupyter-widgets/controls",
          "model_name": "DescriptionStyleModel",
          "model_module_version": "1.5.0",
          "state": {
            "_model_module": "@jupyter-widgets/controls",
            "_model_module_version": "1.5.0",
            "_model_name": "DescriptionStyleModel",
            "_view_count": null,
            "_view_module": "@jupyter-widgets/base",
            "_view_module_version": "1.2.0",
            "_view_name": "StyleView",
            "description_width": ""
          }
        },
        "b5252c3e7eab44d78c1c156f860070c0": {
          "model_module": "@jupyter-widgets/base",
          "model_name": "LayoutModel",
          "model_module_version": "1.2.0",
          "state": {
            "_model_module": "@jupyter-widgets/base",
            "_model_module_version": "1.2.0",
            "_model_name": "LayoutModel",
            "_view_count": null,
            "_view_module": "@jupyter-widgets/base",
            "_view_module_version": "1.2.0",
            "_view_name": "LayoutView",
            "align_content": null,
            "align_items": null,
            "align_self": null,
            "border": null,
            "bottom": null,
            "display": null,
            "flex": null,
            "flex_flow": null,
            "grid_area": null,
            "grid_auto_columns": null,
            "grid_auto_flow": null,
            "grid_auto_rows": null,
            "grid_column": null,
            "grid_gap": null,
            "grid_row": null,
            "grid_template_areas": null,
            "grid_template_columns": null,
            "grid_template_rows": null,
            "height": null,
            "justify_content": null,
            "justify_items": null,
            "left": null,
            "margin": null,
            "max_height": null,
            "max_width": null,
            "min_height": null,
            "min_width": null,
            "object_fit": null,
            "object_position": null,
            "order": null,
            "overflow": null,
            "overflow_x": null,
            "overflow_y": null,
            "padding": null,
            "right": null,
            "top": null,
            "visibility": null,
            "width": null
          }
        },
        "cac5e24968d94a34ba1a060d0b92631a": {
          "model_module": "@jupyter-widgets/controls",
          "model_name": "ProgressStyleModel",
          "model_module_version": "1.5.0",
          "state": {
            "_model_module": "@jupyter-widgets/controls",
            "_model_module_version": "1.5.0",
            "_model_name": "ProgressStyleModel",
            "_view_count": null,
            "_view_module": "@jupyter-widgets/base",
            "_view_module_version": "1.2.0",
            "_view_name": "StyleView",
            "bar_color": null,
            "description_width": ""
          }
        },
        "817cba681ca64fe4a3c8fe3f5d67d347": {
          "model_module": "@jupyter-widgets/base",
          "model_name": "LayoutModel",
          "model_module_version": "1.2.0",
          "state": {
            "_model_module": "@jupyter-widgets/base",
            "_model_module_version": "1.2.0",
            "_model_name": "LayoutModel",
            "_view_count": null,
            "_view_module": "@jupyter-widgets/base",
            "_view_module_version": "1.2.0",
            "_view_name": "LayoutView",
            "align_content": null,
            "align_items": null,
            "align_self": null,
            "border": null,
            "bottom": null,
            "display": null,
            "flex": null,
            "flex_flow": null,
            "grid_area": null,
            "grid_auto_columns": null,
            "grid_auto_flow": null,
            "grid_auto_rows": null,
            "grid_column": null,
            "grid_gap": null,
            "grid_row": null,
            "grid_template_areas": null,
            "grid_template_columns": null,
            "grid_template_rows": null,
            "height": null,
            "justify_content": null,
            "justify_items": null,
            "left": null,
            "margin": null,
            "max_height": null,
            "max_width": null,
            "min_height": null,
            "min_width": null,
            "object_fit": null,
            "object_position": null,
            "order": null,
            "overflow": null,
            "overflow_x": null,
            "overflow_y": null,
            "padding": null,
            "right": null,
            "top": null,
            "visibility": null,
            "width": null
          }
        },
        "c1ba162cebad4fdbb62872887f0ef8c4": {
          "model_module": "@jupyter-widgets/controls",
          "model_name": "DescriptionStyleModel",
          "model_module_version": "1.5.0",
          "state": {
            "_model_module": "@jupyter-widgets/controls",
            "_model_module_version": "1.5.0",
            "_model_name": "DescriptionStyleModel",
            "_view_count": null,
            "_view_module": "@jupyter-widgets/base",
            "_view_module_version": "1.2.0",
            "_view_name": "StyleView",
            "description_width": ""
          }
        }
      }
    }
  },
  "nbformat": 4,
  "nbformat_minor": 5
}