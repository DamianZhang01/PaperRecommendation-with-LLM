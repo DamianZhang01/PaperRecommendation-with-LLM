{
 "cells": [
  {
   "cell_type": "code",
   "execution_count": 2,
   "id": "89352281-16b9-4a97-8f30-22226d7f4dd2",
   "metadata": {},
   "outputs": [],
   "source": [
    "import torch\n",
    "import random\n",
    "import json\n",
    "import os\n",
    "\n",
    "import numpy as np\n",
    "import pandas as pd\n",
    "import torch.nn.functional as F\n",
    "\n",
    "from random import randrange\n",
    "# from tqdm.notebook import tqdm_no\n",
    "from torch.utils.data import Dataset, DataLoader\n",
    "from transformers import BertTokenizer, BertForSequenceClassification, Trainer, TrainingArguments, BertModel, BertForNextSentencePrediction, AutoTokenizer\n"
   ]
  },
  {
   "cell_type": "code",
   "execution_count": 3,
   "id": "7f1b967e-4603-4271-8f7c-790e4085b12e",
   "metadata": {},
   "outputs": [],
   "source": [
    "# Change to your corresponding key to download dataset from Kaggle\n",
    "# https://www.kaggle.com/datasets/Cornell-University/arxiv\n",
    "\n",
    "with open('./kaggle.json') as f:\n",
    "    file = json.load(f)\n",
    "\n",
    "os.environ[\"KAGGLE_KEY\"] = file['key']\n",
    "os.environ[\"KAGGLE_USERNAME\"] = 'jeploretizo'"
   ]
  },
  {
   "cell_type": "code",
   "execution_count": 4,
   "id": "9d645ae8-9cec-40b1-ae2c-297226f294a0",
   "metadata": {},
   "outputs": [
    {
     "name": "stdout",
     "output_type": "stream",
     "text": [
      "arxiv.zip: Skipping, found more recently modified local copy (use --force to force download)\n"
     ]
    }
   ],
   "source": [
    "!kaggle datasets download -d Cornell-University/arxiv"
   ]
  },
  {
   "cell_type": "code",
   "execution_count": 6,
   "id": "e854e317-1889-4f27-836b-4905bca05d52",
   "metadata": {},
   "outputs": [],
   "source": [
    "! unzip \"arxiv.zip\""
   ]
  },
  {
   "cell_type": "code",
   "execution_count": 7,
   "id": "e096305d-c90a-447e-a728-7c7f2bcbfd8d",
   "metadata": {},
   "outputs": [],
   "source": [
    "PRE_TRAINED_MODEL_NAME = 'bert-base-cased'\n",
    "MAX_SEQUENCE_LENGTH = 256\n",
    "FILE_PATH ='./arxiv-metadata-oai-snapshot.json'\n",
    "device = torch.device(\"cuda\" if torch.cuda.is_available() else \"cpu\")"
   ]
  },
  {
   "cell_type": "code",
   "execution_count": 8,
   "id": "25208d6e-4774-4711-bb9e-aec95dfd2860",
   "metadata": {},
   "outputs": [],
   "source": [
    "def get_data():\n",
    "    with open(FILE_PATH) as f:\n",
    "        for line in f:\n",
    "            yield line"
   ]
  },
  {
   "cell_type": "code",
   "execution_count": 9,
   "id": "2d73cb1c-3ffe-4dd2-bf42-2961d06e1e73",
   "metadata": {},
   "outputs": [],
   "source": [
    "year_limit = 2023\n",
    "\n",
    "dataframe = {\n",
    "    'id': [],\n",
    "    'title': [],\n",
    "    'year': [],\n",
    "    'abstract': []\n",
    "\n",
    "}\n",
    "\n",
    "data = get_data()\n",
    "for i, paper in enumerate(data):\n",
    "    paper = json.loads(paper)\n",
    "    try:\n",
    "        date = int(paper['update_date'].split('-')[0])\n",
    "        if date > year_limit:\n",
    "            dataframe['title'].append(paper['title'])\n",
    "            dataframe['year'].append(date)\n",
    "            dataframe['abstract'].append(paper['abstract'])\n",
    "            dataframe['id'].append(paper['id'])\n",
    "    except: pass"
   ]
  },
  {
   "cell_type": "code",
   "execution_count": 10,
   "id": "0f21cfa9-bf0e-4b2c-a097-a267c993f7ee",
   "metadata": {},
   "outputs": [],
   "source": [
    "df = pd.DataFrame(dataframe)\n",
    ".DS_Store\n",
    "# Limit to first 500 for training purposes\n",
    "df = df[:500]"
   ]
  },
  {
   "cell_type": "code",
   "execution_count": 11,
   "id": "8ba8cbc6-1b12-464d-ae22-f216a2002f31",
   "metadata": {},
   "outputs": [],
   "source": [
    "model = BertForNextSentencePrediction.from_pretrained(PRE_TRAINED_MODEL_NAME)\n",
    "model = model.to(device)\n",
    "model.eval()\n",
    "\n",
    "tokenizer = AutoTokenizer.from_pretrained(PRE_TRAINED_MODEL_NAME)"
   ]
  },
  {
   "cell_type": "code",
   "execution_count": 12,
   "id": "d2c2d1cc-e406-4b7a-8f81-3d81d39d81a3",
   "metadata": {},
   "outputs": [],
   "source": [
    "def get_similarity_scores(query_string, reference_list, BATCH_SIZE=16):\n",
    "  similarity_scores = []\n",
    "  paired_texts = [(query_string, reference_row) for reference_row in reference_list]\n",
    "\n",
    "  for i in tqdm(range(0, len(paired_texts), BATCH_SIZE)):\n",
    "      batch = paired_texts[i:i + BATCH_SIZE]\n",
    "      encoded_sequences = tokenizer(\n",
    "          [pair[0] for pair in batch],\n",
    "          [pair[1] for pair in batch],\n",
    "          padding='longest',\n",
    "          truncation='longest_first',\n",
    "          return_tensors='pt',\n",
    "          max_length=MAX_SEQUENCE_LENGTH\n",
    "      ).to(device)\n",
    "\n",
    "      outputs = model(\n",
    "          input_ids=encoded_sequences['input_ids'],\n",
    "          attention_mask=encoded_sequences['attention_mask'],\n",
    "          token_type_ids=encoded_sequences['token_type_ids']\n",
    "      )\n",
    "\n",
    "      probs = F.softmax(outputs.logits, dim=1)\n",
    "      similarity_scores.extend(probs[:, 0].detach().cpu().numpy())\n",
    "\n",
    "  return similarity_scores\n",
    "\n",
    "# Assuming similarity_scores is now a list of similarity scores,\n",
    "# one for each row in your original DataFrame:\n"
   ]
  },
  {
   "cell_type": "code",
   "execution_count": 30,
   "id": "67bd7e9f-facd-4fc3-8359-212a01ba3aaa",
   "metadata": {},
   "outputs": [
    {
     "data": {
      "application/vnd.jupyter.widget-view+json": {
       "model_id": "96d593b5d6ba4ebfaf7637ff7bdc2799",
       "version_major": 2,
       "version_minor": 0
      },
      "text/plain": [
       "  0%|          | 0/32 [00:00<?, ?it/s]"
      ]
     },
     "metadata": {},
     "output_type": "display_data"
    }
   ],
   "source": [
    "query_string = 'graph theory'\n",
    "df['similarity_score'] = get_similarity_scores(query_string, df['abstract'].to_list())"
   ]
  },
  {
   "cell_type": "code",
   "execution_count": null,
   "id": "d05b5720-5ce1-4e36-ae28-7883fac90715",
   "metadata": {},
   "outputs": [],
   "source": [
    "df = df.sort_values(by='similarity_score', ascending=False).reset_index(drop=True)"
   ]
  },
  {
   "cell_type": "code",
   "execution_count": 43,
   "id": "65a12658-b60d-4c63-bf47-998ef7b7cdd8",
   "metadata": {},
   "outputs": [],
   "source": [
    "from IPython.display import display, Markdown"
   ]
  },
  {
   "cell_type": "code",
   "execution_count": 49,
   "id": "aea363ee-96a5-467e-a4f4-fa4f32690acc",
   "metadata": {},
   "outputs": [],
   "source": [
    "markdown_text = \"\"\n",
    "for i in range(5):\n",
    "    row = df.iloc[i]\n",
    "    markdown_text = markdown_text + f\"\"\"\n",
    "    <div class=\"alert alert-block alert-success\">\n",
    "    <b>{row['title']}</b> <br> Abstract: {row['abstract']}\n",
    "    </div>\n",
    "    \"\"\""
   ]
  },
  {
   "cell_type": "code",
   "execution_count": 50,
   "id": "2a0ac6f4-2122-4578-9318-19aeaf11aecd",
   "metadata": {},
   "outputs": [
    {
     "data": {
      "text/markdown": [
       "\n",
       "    <div class=\"alert alert-block alert-success\">\n",
       "    <b>On expanders from the action of GL(2,Z)</b> <br> Abstract:   Consider the undirected graph $G_n=(V_n, E_n)$ where $V_n = (Z/nZ)^2$ and\n",
       "$E_n$ contains an edge from $(x,y)$ to $(x+1,y)$, $(x,y+1)$, $(x+y,y)$, and\n",
       "$(x,y+x)$ for every $(x,y) \\in V_n$. Gabber and Galil, following Margulis, gave\n",
       "an elementary proof that ${G_n}$ forms an expander family. In this note, we\n",
       "present a somewhat simpler proof of this fact, and demonstrate its utility by\n",
       "isolating a key property of the linear transformations $(x,y) -> (x+y,x),\n",
       "(x,y+x)$ that yields expansion.\n",
       "  As an example, consider any invertible, integral matrix $S \\in GL_2(Z)$ and\n",
       "let $G^S_n = (V_n, E^S_n)$ where $E^S_n$ contains, for every $(x,y) \\in V_n$,\n",
       "an edge from $(x,y)$ to $(x+1,y)$, $(x,y+1)$, $S(x,y)$, and $S^T(x,y)$, where\n",
       "$S^T$ denotes the transpose of $S$. Then {G_n^S} forms an expander family if\n",
       "and only if a related infinite graph has positive Cheeger constant. This latter\n",
       "property turns out to be elementary to analyze and can be used to show that\n",
       "{G_n^S} are expanders precisely when the trace of S is non-zero and S is not\n",
       "equal to its transpose. We also present some other generalizations.\n",
       "\n",
       "    </div>\n",
       "    \n",
       "    <div class=\"alert alert-block alert-success\">\n",
       "    <b>On the number of outer connected dominating sets of graphs</b> <br> Abstract:   Let $G=(V,E)$ be a simple graph. A set $S\\subseteq V(G)$ is called an\n",
       "outer-connected dominating set (or ocd-set) of $G$, if $S$ is a dominating set\n",
       "of $G$ and either $S=V(G)$ or $V\\backslash S$ is a connected graph. In this\n",
       "paper we introduce a polynomial which its coefficients are the number of\n",
       "ocd-sets of $G$. We obtain some properties of this polynomial and its\n",
       "coefficients. Also we compute this polynomial for some specific graphs.\n",
       "\n",
       "    </div>\n",
       "    \n",
       "    <div class=\"alert alert-block alert-success\">\n",
       "    <b>Impartial achievement and avoidance games for generating finite groups</b> <br> Abstract:   We study two impartial games introduced by Anderson and Harary and further\n",
       "developed by Barnes. Both games are played by two players who alternately\n",
       "select previously unselected elements of a finite group. The first player who\n",
       "builds a generating set from the jointly selected elements wins the first game.\n",
       "The first player who cannot select an element without building a generating set\n",
       "loses the second game. After the development of some general results, we\n",
       "determine the nim-numbers of these games for abelian and dihedral groups. We\n",
       "also present some conjectures based on computer calculations. Our main\n",
       "computational and theoretical tool is the structure diagram of a game, which is\n",
       "a type of identification digraph of the game digraph that is compatible with\n",
       "the nim-numbers of the positions. Structure diagrams also provide simple yet\n",
       "intuitive visualizations of these games that capture the complexity of the\n",
       "positions.\n",
       "\n",
       "    </div>\n",
       "    \n",
       "    <div class=\"alert alert-block alert-success\">\n",
       "    <b>Impartial avoidance and achievement games for generating symmetric and\n",
       "  alternating groups</b> <br> Abstract:   We study two impartial games introduced by Anderson and Harary. Both games\n",
       "are played by two players who alternately select previously-unselected elements\n",
       "of a finite group. The first player who builds a generating set from the\n",
       "jointly-selected elements wins the first game. The first player who cannot\n",
       "select an element without building a generating set loses the second game. We\n",
       "determine the nim-numbers, and therefore the outcomes, of these games for\n",
       "symmetric and alternating groups.\n",
       "\n",
       "    </div>\n",
       "    \n",
       "    <div class=\"alert alert-block alert-success\">\n",
       "    <b>A family of graphs that cannot occur as character degree graphs of\n",
       "  solvable groups</b> <br> Abstract:   We investigate character degree graphs of solvable groups. In particular, we\n",
       "provide general results that can be used to eliminate which degree graphs can\n",
       "occur as solvable groups. Finally, we show a specific family of graphs cannot\n",
       "occur as a character degree for any solvable group.\n",
       "\n",
       "    </div>\n",
       "    "
      ],
      "text/plain": [
       "<IPython.core.display.Markdown object>"
      ]
     },
     "metadata": {},
     "output_type": "display_data"
    }
   ],
   "source": [
    "display(Markdown(markdown_text))"
   ]
  },
  {
   "cell_type": "code",
   "execution_count": null,
   "id": "f186e958-0da2-4dbb-9a90-4a62691aad46",
   "metadata": {},
   "outputs": [],
   "source": []
  },
  {
   "cell_type": "code",
   "execution_count": null,
   "id": "3214ec2c-42d1-456f-a198-5db36c8041ec",
   "metadata": {},
   "outputs": [],
   "source": []
  }
 ],
 "metadata": {
  "kernelspec": {
   "display_name": "Python 3 (ipykernel)",
   "language": "python",
   "name": "python3"
  },
  "language_info": {
   "codemirror_mode": {
    "name": "ipython",
    "version": 3
   },
   "file_extension": ".py",
   "mimetype": "text/x-python",
   "name": "python",
   "nbconvert_exporter": "python",
   "pygments_lexer": "ipython3",
   "version": "3.12.0"
  }
 },
 "nbformat": 4,
 "nbformat_minor": 5
}
