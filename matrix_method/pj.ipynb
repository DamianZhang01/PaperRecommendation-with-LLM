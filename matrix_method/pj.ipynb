{
 "cells": [
  {
   "cell_type": "code",
   "execution_count": 1,
   "metadata": {},
   "outputs": [],
   "source": [
    "import json\n",
    "from sklearn.feature_extraction.text import TfidfVectorizer\n",
    "from sklearn.metrics.pairwise import cosine_similarity\n",
    "import numpy as np\n",
    "from gensim.models import KeyedVectors"
   ]
  },
  {
   "cell_type": "code",
   "execution_count": 2,
   "metadata": {},
   "outputs": [],
   "source": [
    "file_path = 'papers_test.json'\n",
    "data = []\n",
    "with open(file_path, 'r') as file:\n",
    "    for line in file:\n",
    "        data.append(json.loads(line))\n",
    "\n",
    "# for item in data:\n",
    "#     print(f\"ID: {item['id']}, Title: {item['title']}, Year: {item['year']}\")\n",
    "\n"
   ]
  },
  {
   "cell_type": "code",
   "execution_count": 3,
   "metadata": {},
   "outputs": [
    {
     "name": "stdout",
     "output_type": "stream",
     "text": [
      "Common citations: 0\n"
     ]
    }
   ],
   "source": [
    "# CooccurrenceCnt\n",
    "    \n",
    "def calculate_common_citations(dict1, dict2):\n",
    "    citations1 = set(dict1['citations'])\n",
    "    citations2 = set(dict2['citations'])\n",
    "    common_citations = citations1.intersection(citations2)\n",
    "    return len(common_citations)\n",
    "\n",
    "common_citations_count = calculate_common_citations(data[0], data[1])\n",
    "print(f\"Common citations: {common_citations_count}\")\n",
    "\n"
   ]
  },
  {
   "cell_type": "code",
   "execution_count": null,
   "metadata": {},
   "outputs": [],
   "source": [
    "data"
   ]
  },
  {
   "cell_type": "code",
   "execution_count": 4,
   "metadata": {},
   "outputs": [],
   "source": [
    "# content-based similarity\n",
    "texts = [d.get(\"title\", \"\") + \" \" + d.get(\"abstract\", \"\") for d in data]"
   ]
  },
  {
   "cell_type": "code",
   "execution_count": null,
   "metadata": {},
   "outputs": [],
   "source": [
    "# EmbSimilarity\n",
    "def calculate_emb_similarity(texts, word_vectors):\n",
    "    def document_vector(doc):\n",
    "        words = doc.split()\n",
    "        word_vecs = [word_vectors[word] for word in words if word in word_vectors]\n",
    "        return np.mean(word_vecs, axis=0) if word_vecs else np.zeros(word_vectors.vector_size)\n",
    "\n",
    "    doc_vectors = np.array([document_vector(text) for text in texts])\n",
    "    return cosine_similarity(doc_vectors)\n",
    "\n",
    "# 加载预训练的Word2Vec模型\n",
    "word_vectors = KeyedVectors.load_word2vec_format('/Users/zyw/Documents/SI618/SI_618_WN_24_Files/data/GoogleNews-vectors-negative300-SLIM.bin', binary=True) \n"
   ]
  },
  {
   "cell_type": "code",
   "execution_count": null,
   "metadata": {},
   "outputs": [],
   "source": [
    "word_vectors.vectors.shape"
   ]
  },
  {
   "cell_type": "code",
   "execution_count": null,
   "metadata": {},
   "outputs": [],
   "source": [
    "emb_similarities = calculate_emb_similarity(texts, word_vectors)\n",
    "print(\"Emb Similarities:\\n\", emb_similarities)"
   ]
  },
  {
   "cell_type": "code",
   "execution_count": 5,
   "metadata": {},
   "outputs": [],
   "source": [
    "# TFIDFSimilarity\n",
    "def calculate_tfidf_similarity(texts):\n",
    "    vectorizer = TfidfVectorizer()\n",
    "    tfidf_matrix = vectorizer.fit_transform(texts)\n",
    "    return cosine_similarity(tfidf_matrix)"
   ]
  },
  {
   "cell_type": "code",
   "execution_count": null,
   "metadata": {},
   "outputs": [],
   "source": [
    "texts"
   ]
  },
  {
   "cell_type": "code",
   "execution_count": 6,
   "metadata": {},
   "outputs": [],
   "source": [
    "tfidf_similarities = calculate_tfidf_similarity(texts)\n",
    "print(\"TFIDF Similarities:\\n\", tfidf_similarities)"
   ]
  }
 ],
 "metadata": {
  "kernelspec": {
   "display_name": ".venv",
   "language": "python",
   "name": "python3"
  },
  "language_info": {
   "codemirror_mode": {
    "name": "ipython",
    "version": 3
   },
   "file_extension": ".py",
   "mimetype": "text/x-python",
   "name": "python",
   "nbconvert_exporter": "python",
   "pygments_lexer": "ipython3",
   "version": "3.12.1"
  }
 },
 "nbformat": 4,
 "nbformat_minor": 2
}
